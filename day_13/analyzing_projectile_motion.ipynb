{
 "cells": [
  {
   "cell_type": "code",
   "execution_count": 2,
   "metadata": {},
   "outputs": [],
   "source": [
    "import numpy as np\n",
    "import pandas as pd\n",
    "\n",
    "# Function to generate projectile motion data\n",
    "def generate_projectile_data(num_samples):\n",
    "    np.random.seed(42)  # For reproducibility\n",
    "    angles = np.random.uniform(20, 70, num_samples)  # Launch angles between 20 and 70 degrees\n",
    "    velocities = np.random.uniform(10, 30, num_samples)  # Initial velocities between 10 and 30 m/s\n",
    "    heights = np.random.uniform(5, 50, num_samples)  # Initial heights between 5 and 50 meters\n",
    "\n",
    "    # Calculating horizontal and vertical components of velocity\n",
    "    v_horizontal = velocities * np.cos(np.radians(angles))\n",
    "    v_vertical = velocities * np.sin(np.radians(angles))\n",
    "\n",
    "    # Time of flight\n",
    "    time_of_flight = (2 * v_vertical) / 9.8\n",
    "\n",
    "    # Horizontal range\n",
    "    horizontal_range = v_horizontal * time_of_flight\n",
    "\n",
    "    # Maximum height\n",
    "    max_height = (v_vertical ** 2) / (2 * 9.8) + heights\n",
    "\n",
    "    # Creating a DataFrame\n",
    "    data = pd.DataFrame({\n",
    "        'Launch Angle (degrees)': angles,\n",
    "        'Initial Velocity (m/s)': velocities,\n",
    "        'Initial Height (m)': heights,\n",
    "        'Horizontal Velocity (m/s)': v_horizontal,\n",
    "        'Vertical Velocity (m/s)': v_vertical,\n",
    "        'Time of Flight (s)': time_of_flight,\n",
    "        'Horizontal Range (m)': horizontal_range,\n",
    "        'Maximum Height (m)': max_height\n",
    "    })\n",
    "\n",
    "    return data\n",
    "\n",
    "# Generate a dataset with 1000 samples\n",
    "projectile_data = generate_projectile_data(1000)\n",
    "\n",
    "# Save the dataset to a CSV file\n",
    "projectile_data.to_csv('projectile_motion_dataset.csv', index=False)"
   ]
  },
  {
   "cell_type": "code",
   "execution_count": null,
   "metadata": {},
   "outputs": [],
   "source": []
  }
 ],
 "metadata": {
  "kernelspec": {
   "display_name": "Python 3",
   "language": "python",
   "name": "python3"
  },
  "language_info": {
   "codemirror_mode": {
    "name": "ipython",
    "version": 3
   },
   "file_extension": ".py",
   "mimetype": "text/x-python",
   "name": "python",
   "nbconvert_exporter": "python",
   "pygments_lexer": "ipython3",
   "version": "3.12.1"
  }
 },
 "nbformat": 4,
 "nbformat_minor": 2
}
