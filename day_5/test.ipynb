{
 "cells": [
  {
   "cell_type": "markdown",
   "metadata": {},
   "source": [
    "**Markdown ko run karny ka lia shortcut \"shift+enter\"\\\n",
    "1st heading #+spc \\\n",
    "2nd heading ## +space\\\n",
    "3rd heading ### + spc\\\n",
    "4th heading #### + spc\\\n",
    "cntrl+B bold\\\n",
    "cntlt+i Italic\\\n",
    "Python ka tab ko run krny ka li shift+enter\\\n",
    "Backward slash \"\\\" to write in multi line\\**\n",
    "zoom in vs code cntrl+shift+\"+\""
   ]
  },
  {
   "cell_type": "markdown",
   "metadata": {},
   "source": [
    "**Subject for this notebook**\\\n",
    "Authored by; Hafiz Kalim Ullah\\\n",
    "Where to contact ; Github profile link \"OR\" Gmail.\\\n",
    "This is a Jupyter Notebook that provides an interactive platform to explore the data and perform various operations on it using Python programming language.\\\n",
    "[Leacture 5](https://www.youtube.com/live/V5Pk5qvRo7A?si=BNI40ch5848uO_qT)"
   ]
  },
  {
   "cell_type": "markdown",
   "metadata": {},
   "source": [
    "code ko seperat krny ka li ipynb file use hote ha"
   ]
  },
  {
   "cell_type": "code",
   "execution_count": null,
   "metadata": {},
   "outputs": [],
   "source": [
    "# code 1\n",
    "print(\"kalim\")"
   ]
  },
  {
   "cell_type": "markdown",
   "metadata": {},
   "source": [
    "is cell ko input function ka lia use krty han"
   ]
  },
  {
   "cell_type": "code",
   "execution_count": null,
   "metadata": {},
   "outputs": [],
   "source": [
    "# code 2\n",
    "name = input (\"what is tour name\")"
   ]
  },
  {
   "cell_type": "code",
   "execution_count": 6,
   "metadata": {},
   "outputs": [
    {
     "name": "stdout",
     "output_type": "stream",
     "text": [
      "hellow kalim\n"
     ]
    },
    {
     "data": {
      "text/plain": [
       "7"
      ]
     },
     "execution_count": 6,
     "metadata": {},
     "output_type": "execute_result"
    }
   ],
   "source": [
    "#code 3\n",
    "name = (\"kalim\")\n",
    "print(\"hellow\",name)\n",
    "3+4\n",
    "#diff variable ka sath print ke command lagany ke zrrt ni parti.  in ipynb ma"
   ]
  },
  {
   "cell_type": "markdown",
   "metadata": {},
   "source": [
    "is function sa hm string print krty hn\n",
    "\n"
   ]
  },
  {
   "cell_type": "code",
   "execution_count": 19,
   "metadata": {},
   "outputs": [],
   "source": [
    "somasa = ('alo','piaz','sabaz marich','keema','tamatar')"
   ]
  },
  {
   "cell_type": "code",
   "execution_count": 20,
   "metadata": {},
   "outputs": [
    {
     "data": {
      "text/plain": [
       "('alo', 'piaz', 'sabaz marich', 'keema', 'tamatar')"
      ]
     },
     "execution_count": 20,
     "metadata": {},
     "output_type": "execute_result"
    }
   ],
   "source": [
    "somasa"
   ]
  },
  {
   "cell_type": "markdown",
   "metadata": {},
   "source": [
    "**Assigment:**\\\n",
    "Convert jupiter noot book to PDF\\\n",
    "Not through HTML\\\n"
   ]
  }
 ],
 "metadata": {
  "kernelspec": {
   "display_name": "Python 3",
   "language": "python",
   "name": "python3"
  },
  "language_info": {
   "codemirror_mode": {
    "name": "ipython",
    "version": 3
   },
   "file_extension": ".py",
   "mimetype": "text/x-python",
   "name": "python",
   "nbconvert_exporter": "python",
   "pygments_lexer": "ipython3",
   "version": "3.12.1"
  }
 },
 "nbformat": 4,
 "nbformat_minor": 2
}
